{
  "nbformat": 4,
  "nbformat_minor": 0,
  "metadata": {
    "colab": {
      "name": "MT4_tick_data_charting.ipynb",
      "version": "0.3.2",
      "provenance": []
    },
    "language_info": {
      "codemirror_mode": {
        "name": "ipython",
        "version": 3
      },
      "file_extension": ".py",
      "mimetype": "text/x-python",
      "name": "python",
      "nbconvert_exporter": "python",
      "pygments_lexer": "ipython3",
      "version": "3.7.1"
    },
    "kernelspec": {
      "display_name": "Python 3",
      "language": "python",
      "name": "python3"
    }
  },
  "cells": [
    {
      "cell_type": "code",
      "metadata": {
        "id": "9jtkKY2RujyP",
        "colab_type": "code",
        "colab": {}
      },
      "source": [
        "import pandas as pd\n",
        "import matplotlib.pyplot as plt\n",
        "\n",
        "#resize charts to fit screen\n",
        "plt.rcParams['figure.figsize']=[15,5]"
      ],
      "execution_count": 0,
      "outputs": []
    },
    {
      "cell_type": "markdown",
      "metadata": {
        "id": "_i6DDi4UujyV",
        "colab_type": "text"
      },
      "source": [
        "\"Date, Time, Open, High, Low, Close, Volume\" 순서로 되어있는 USOUSD MetaTrader 4 Export 데이터를 로드한다.\n",
        "데이터 내용 예> 2018.07.24,13:30,68.046,68.105,67.900,67.930,591"
      ]
    },
    {
      "cell_type": "code",
      "metadata": {
        "id": "0eUpYroxujyV",
        "colab_type": "code",
        "colab": {
          "base_uri": "https://localhost:8080/",
          "height": 125
        },
        "outputId": "03665b80-2598-4d88-e0a9-ed5f5485eb09"
      },
      "source": [
        "csv_data_uri = 'https://raw.githubusercontent.com/flowtide/dataframe_meets_financial_data/master/raw/forex/USOUSD30-1906.csv'\n",
        "df = pd.read_csv(csv_data_uri, delimiter=',', names = ['date', 'time', 'open', 'high', 'low', 'close', 'volume'])\n",
        "print(df.head())"
      ],
      "execution_count": 2,
      "outputs": [
        {
          "output_type": "stream",
          "text": [
            "         date   time    open    high     low   close  volume\n",
            "0  2019.06.03  03:00  52.861  53.089  52.729  52.774     815\n",
            "1  2019.06.03  03:30  52.776  52.842  52.659  52.769     669\n",
            "2  2019.06.03  04:00  52.774  53.069  52.754  52.801     990\n",
            "3  2019.06.03  04:30  52.799  53.014  52.669  52.936     807\n",
            "4  2019.06.03  05:00  52.911  52.979  52.874  52.934     511\n"
          ],
          "name": "stdout"
        }
      ]
    },
    {
      "cell_type": "code",
      "metadata": {
        "id": "Ae6F-NBaujya",
        "colab_type": "code",
        "colab": {
          "base_uri": "https://localhost:8080/",
          "height": 71
        },
        "outputId": "30fec177-11f8-4715-ebad-2de8ce0f882e"
      },
      "source": [
        "# date, time 컬럼 데이터 타입 확인\n",
        "df[['date','time']].dtypes"
      ],
      "execution_count": 3,
      "outputs": [
        {
          "output_type": "execute_result",
          "data": {
            "text/plain": [
              "date    object\n",
              "time    object\n",
              "dtype: object"
            ]
          },
          "metadata": {
            "tags": []
          },
          "execution_count": 3
        }
      ]
    },
    {
      "cell_type": "markdown",
      "metadata": {
        "id": "35jr0Bhuujye",
        "colab_type": "text"
      },
      "source": [
        "Date, Time 필드를 합쳐서 날짜로 만들고 이 컬럼을 index 컬럼으로 로드하는 방법"
      ]
    },
    {
      "cell_type": "code",
      "metadata": {
        "id": "ZjP00Pksujye",
        "colab_type": "code",
        "colab": {
          "base_uri": "https://localhost:8080/",
          "height": 235
        },
        "outputId": "7a46d844-638e-4237-dcfa-b8fc6ebabab7"
      },
      "source": [
        "df = pd.read_csv(csv_data_uri\n",
        "                 , names=['date', 'time', 'open', 'high', 'low', 'close', 'volume']\n",
        "                 , parse_dates=[['date', 'time']] # date와 time 컬럼이 합쳐져 날짜로 파싱되고 이름이 date_time 컬럼명이 됨\n",
        "                 , index_col='date_time'\n",
        "                )\n",
        "df.head()"
      ],
      "execution_count": 4,
      "outputs": [
        {
          "output_type": "execute_result",
          "data": {
            "text/html": [
              "<div>\n",
              "<style scoped>\n",
              "    .dataframe tbody tr th:only-of-type {\n",
              "        vertical-align: middle;\n",
              "    }\n",
              "\n",
              "    .dataframe tbody tr th {\n",
              "        vertical-align: top;\n",
              "    }\n",
              "\n",
              "    .dataframe thead th {\n",
              "        text-align: right;\n",
              "    }\n",
              "</style>\n",
              "<table border=\"1\" class=\"dataframe\">\n",
              "  <thead>\n",
              "    <tr style=\"text-align: right;\">\n",
              "      <th></th>\n",
              "      <th>open</th>\n",
              "      <th>high</th>\n",
              "      <th>low</th>\n",
              "      <th>close</th>\n",
              "      <th>volume</th>\n",
              "    </tr>\n",
              "    <tr>\n",
              "      <th>date_time</th>\n",
              "      <th></th>\n",
              "      <th></th>\n",
              "      <th></th>\n",
              "      <th></th>\n",
              "      <th></th>\n",
              "    </tr>\n",
              "  </thead>\n",
              "  <tbody>\n",
              "    <tr>\n",
              "      <th>2019-06-03 03:00:00</th>\n",
              "      <td>52.861</td>\n",
              "      <td>53.089</td>\n",
              "      <td>52.729</td>\n",
              "      <td>52.774</td>\n",
              "      <td>815</td>\n",
              "    </tr>\n",
              "    <tr>\n",
              "      <th>2019-06-03 03:30:00</th>\n",
              "      <td>52.776</td>\n",
              "      <td>52.842</td>\n",
              "      <td>52.659</td>\n",
              "      <td>52.769</td>\n",
              "      <td>669</td>\n",
              "    </tr>\n",
              "    <tr>\n",
              "      <th>2019-06-03 04:00:00</th>\n",
              "      <td>52.774</td>\n",
              "      <td>53.069</td>\n",
              "      <td>52.754</td>\n",
              "      <td>52.801</td>\n",
              "      <td>990</td>\n",
              "    </tr>\n",
              "    <tr>\n",
              "      <th>2019-06-03 04:30:00</th>\n",
              "      <td>52.799</td>\n",
              "      <td>53.014</td>\n",
              "      <td>52.669</td>\n",
              "      <td>52.936</td>\n",
              "      <td>807</td>\n",
              "    </tr>\n",
              "    <tr>\n",
              "      <th>2019-06-03 05:00:00</th>\n",
              "      <td>52.911</td>\n",
              "      <td>52.979</td>\n",
              "      <td>52.874</td>\n",
              "      <td>52.934</td>\n",
              "      <td>511</td>\n",
              "    </tr>\n",
              "  </tbody>\n",
              "</table>\n",
              "</div>"
            ],
            "text/plain": [
              "                       open    high     low   close  volume\n",
              "date_time                                                  \n",
              "2019-06-03 03:00:00  52.861  53.089  52.729  52.774     815\n",
              "2019-06-03 03:30:00  52.776  52.842  52.659  52.769     669\n",
              "2019-06-03 04:00:00  52.774  53.069  52.754  52.801     990\n",
              "2019-06-03 04:30:00  52.799  53.014  52.669  52.936     807\n",
              "2019-06-03 05:00:00  52.911  52.979  52.874  52.934     511"
            ]
          },
          "metadata": {
            "tags": []
          },
          "execution_count": 4
        }
      ]
    },
    {
      "cell_type": "code",
      "metadata": {
        "id": "5Q76J1cYujyh",
        "colab_type": "code",
        "colab": {},
        "outputId": "9eed7f1e-71c4-49ce-e8ce-6e97998818e5"
      },
      "source": [
        "df.describe()"
      ],
      "execution_count": 0,
      "outputs": [
        {
          "output_type": "execute_result",
          "data": {
            "text/html": [
              "<div>\n",
              "<style scoped>\n",
              "    .dataframe tbody tr th:only-of-type {\n",
              "        vertical-align: middle;\n",
              "    }\n",
              "\n",
              "    .dataframe tbody tr th {\n",
              "        vertical-align: top;\n",
              "    }\n",
              "\n",
              "    .dataframe thead th {\n",
              "        text-align: right;\n",
              "    }\n",
              "</style>\n",
              "<table border=\"1\" class=\"dataframe\">\n",
              "  <thead>\n",
              "    <tr style=\"text-align: right;\">\n",
              "      <th></th>\n",
              "      <th>open</th>\n",
              "      <th>high</th>\n",
              "      <th>low</th>\n",
              "      <th>close</th>\n",
              "      <th>volume</th>\n",
              "    </tr>\n",
              "  </thead>\n",
              "  <tbody>\n",
              "    <tr>\n",
              "      <th>count</th>\n",
              "      <td>9851.000000</td>\n",
              "      <td>9851.000000</td>\n",
              "      <td>9851.000000</td>\n",
              "      <td>9851.000000</td>\n",
              "      <td>9851.000000</td>\n",
              "    </tr>\n",
              "    <tr>\n",
              "      <th>mean</th>\n",
              "      <td>60.828180</td>\n",
              "      <td>60.932991</td>\n",
              "      <td>60.716094</td>\n",
              "      <td>60.826370</td>\n",
              "      <td>963.197137</td>\n",
              "    </tr>\n",
              "    <tr>\n",
              "      <th>std</th>\n",
              "      <td>7.530683</td>\n",
              "      <td>7.512812</td>\n",
              "      <td>7.547910</td>\n",
              "      <td>7.530935</td>\n",
              "      <td>945.335874</td>\n",
              "    </tr>\n",
              "    <tr>\n",
              "      <th>min</th>\n",
              "      <td>42.522000</td>\n",
              "      <td>42.749000</td>\n",
              "      <td>42.416000</td>\n",
              "      <td>42.500000</td>\n",
              "      <td>1.000000</td>\n",
              "    </tr>\n",
              "    <tr>\n",
              "      <th>25%</th>\n",
              "      <td>54.056500</td>\n",
              "      <td>54.194500</td>\n",
              "      <td>53.922000</td>\n",
              "      <td>54.054500</td>\n",
              "      <td>298.000000</td>\n",
              "    </tr>\n",
              "    <tr>\n",
              "      <th>50%</th>\n",
              "      <td>61.531000</td>\n",
              "      <td>61.653000</td>\n",
              "      <td>61.408000</td>\n",
              "      <td>61.529000</td>\n",
              "      <td>654.000000</td>\n",
              "    </tr>\n",
              "    <tr>\n",
              "      <th>75%</th>\n",
              "      <td>67.481000</td>\n",
              "      <td>67.595000</td>\n",
              "      <td>67.385000</td>\n",
              "      <td>67.481000</td>\n",
              "      <td>1302.000000</td>\n",
              "    </tr>\n",
              "    <tr>\n",
              "      <th>max</th>\n",
              "      <td>76.547000</td>\n",
              "      <td>76.777000</td>\n",
              "      <td>76.194000</td>\n",
              "      <td>76.547000</td>\n",
              "      <td>7854.000000</td>\n",
              "    </tr>\n",
              "  </tbody>\n",
              "</table>\n",
              "</div>"
            ],
            "text/plain": [
              "              open         high          low        close       volume\n",
              "count  9851.000000  9851.000000  9851.000000  9851.000000  9851.000000\n",
              "mean     60.828180    60.932991    60.716094    60.826370   963.197137\n",
              "std       7.530683     7.512812     7.547910     7.530935   945.335874\n",
              "min      42.522000    42.749000    42.416000    42.500000     1.000000\n",
              "25%      54.056500    54.194500    53.922000    54.054500   298.000000\n",
              "50%      61.531000    61.653000    61.408000    61.529000   654.000000\n",
              "75%      67.481000    67.595000    67.385000    67.481000  1302.000000\n",
              "max      76.547000    76.777000    76.194000    76.547000  7854.000000"
            ]
          },
          "metadata": {
            "tags": []
          },
          "execution_count": 11
        }
      ]
    },
    {
      "cell_type": "code",
      "metadata": {
        "id": "Ypw_vP_Oujyl",
        "colab_type": "code",
        "colab": {
          "base_uri": "https://localhost:8080/",
          "height": 332
        },
        "outputId": "d8e7db60-7bee-4175-e85a-10b74e0c1bca"
      },
      "source": [
        "# 종가 그래프 그림\n",
        "_ = df['close'].plot()"
      ],
      "execution_count": 6,
      "outputs": [
        {
          "output_type": "display_data",
          "data": {
            "image/png": "[encoded data removed]",
            "text/plain": [
              "<Figure size 1080x360 with 1 Axes>"
            ]
          },
          "metadata": {
            "tags": []
          }
        }
      ]
    }
  ]
}