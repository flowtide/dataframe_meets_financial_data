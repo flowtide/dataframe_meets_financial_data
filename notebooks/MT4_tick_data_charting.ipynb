{
 "cells": [
  {
   "cell_type": "code",
   "execution_count": 16,
   "metadata": {},
   "outputs": [],
   "source": [
    "import pandas as pd\n",
    "import matplotlib.pyplot as plt\n",
    "\n",
    "#resize charts to fit screen\n",
    "plt.rcParams['figure.figsize']=[15,5]"
   ]
  },
  {
   "cell_type": "markdown",
   "metadata": {},
   "source": [
    "\"Date, Time, Open, High, Low, Close, Volume\" 순서로 되어있는 USOUSD MetaTrader 4 Export 데이터를 로드한다.\n",
    "데이터 내용 예> 2018.07.24,13:30,68.046,68.105,67.900,67.930,591"
   ]
  },
  {
   "cell_type": "code",
   "execution_count": 8,
   "metadata": {},
   "outputs": [
    {
     "name": "stdout",
     "output_type": "stream",
     "text": [
      "         date   time    open    high     low   close  volume\n",
      "0  2018.07.24  13:30  68.046  68.105  67.900  67.930     591\n",
      "1  2018.07.24  14:00  67.937  67.979  67.829  67.837     762\n",
      "2  2018.07.24  14:30  67.844  68.018  67.844  68.009     699\n",
      "3  2018.07.24  15:00  68.011  68.137  67.942  68.067     866\n",
      "4  2018.07.24  15:30  68.068  68.068  67.608  67.609    1870\n"
     ]
    }
   ],
   "source": [
    "csv_data_uri = 'https://raw.githubusercontent.com/flowtide/dataframe_meets_financial_data/master/raw/forex/USOUSD30-18_19.csv'\n",
    "df = pd.read_csv(data_uri, delimiter=',', names = ['date', 'time', 'open', 'high', 'low', 'close', 'volume'])\n",
    "print(df.head())"
   ]
  },
  {
   "cell_type": "code",
   "execution_count": 6,
   "metadata": {},
   "outputs": [
    {
     "data": {
      "text/plain": [
       "date    object\n",
       "time    object\n",
       "dtype: object"
      ]
     },
     "execution_count": 6,
     "metadata": {},
     "output_type": "execute_result"
    }
   ],
   "source": [
    "# date, time 컬럼 데이터 타입 확인\n",
    "df[['date','time']].dtypes"
   ]
  },
  {
   "cell_type": "markdown",
   "metadata": {},
   "source": [
    "Date, Time 필드를 합쳐서 날짜로 만들고 이 컬럼을 index 컬럼으로 로드하는 방법"
   ]
  },
  {
   "cell_type": "code",
   "execution_count": 10,
   "metadata": {},
   "outputs": [
    {
     "data": {
      "text/html": [
       "<div>\n",
       "<style scoped>\n",
       "    .dataframe tbody tr th:only-of-type {\n",
       "        vertical-align: middle;\n",
       "    }\n",
       "\n",
       "    .dataframe tbody tr th {\n",
       "        vertical-align: top;\n",
       "    }\n",
       "\n",
       "    .dataframe thead th {\n",
       "        text-align: right;\n",
       "    }\n",
       "</style>\n",
       "<table border=\"1\" class=\"dataframe\">\n",
       "  <thead>\n",
       "    <tr style=\"text-align: right;\">\n",
       "      <th></th>\n",
       "      <th>open</th>\n",
       "      <th>high</th>\n",
       "      <th>low</th>\n",
       "      <th>close</th>\n",
       "      <th>volume</th>\n",
       "    </tr>\n",
       "    <tr>\n",
       "      <th>date_time</th>\n",
       "      <th></th>\n",
       "      <th></th>\n",
       "      <th></th>\n",
       "      <th></th>\n",
       "      <th></th>\n",
       "    </tr>\n",
       "  </thead>\n",
       "  <tbody>\n",
       "    <tr>\n",
       "      <th>2018-07-24 13:30:00</th>\n",
       "      <td>68.046</td>\n",
       "      <td>68.105</td>\n",
       "      <td>67.900</td>\n",
       "      <td>67.930</td>\n",
       "      <td>591</td>\n",
       "    </tr>\n",
       "    <tr>\n",
       "      <th>2018-07-24 14:00:00</th>\n",
       "      <td>67.937</td>\n",
       "      <td>67.979</td>\n",
       "      <td>67.829</td>\n",
       "      <td>67.837</td>\n",
       "      <td>762</td>\n",
       "    </tr>\n",
       "    <tr>\n",
       "      <th>2018-07-24 14:30:00</th>\n",
       "      <td>67.844</td>\n",
       "      <td>68.018</td>\n",
       "      <td>67.844</td>\n",
       "      <td>68.009</td>\n",
       "      <td>699</td>\n",
       "    </tr>\n",
       "    <tr>\n",
       "      <th>2018-07-24 15:00:00</th>\n",
       "      <td>68.011</td>\n",
       "      <td>68.137</td>\n",
       "      <td>67.942</td>\n",
       "      <td>68.067</td>\n",
       "      <td>866</td>\n",
       "    </tr>\n",
       "    <tr>\n",
       "      <th>2018-07-24 15:30:00</th>\n",
       "      <td>68.068</td>\n",
       "      <td>68.068</td>\n",
       "      <td>67.608</td>\n",
       "      <td>67.609</td>\n",
       "      <td>1870</td>\n",
       "    </tr>\n",
       "  </tbody>\n",
       "</table>\n",
       "</div>"
      ],
      "text/plain": [
       "                       open    high     low   close  volume\n",
       "date_time                                                  \n",
       "2018-07-24 13:30:00  68.046  68.105  67.900  67.930     591\n",
       "2018-07-24 14:00:00  67.937  67.979  67.829  67.837     762\n",
       "2018-07-24 14:30:00  67.844  68.018  67.844  68.009     699\n",
       "2018-07-24 15:00:00  68.011  68.137  67.942  68.067     866\n",
       "2018-07-24 15:30:00  68.068  68.068  67.608  67.609    1870"
      ]
     },
     "execution_count": 10,
     "metadata": {},
     "output_type": "execute_result"
    }
   ],
   "source": [
    "df = pd.read_csv(csv_data_uri\n",
    "                 , names=['date', 'time', 'open', 'high', 'low', 'close', 'volume']\n",
    "                 , parse_dates=[['date', 'time']] # date와 time 컬럼이 합쳐져 날짜로 파싱되고 이름이 date_time 컬럼명이 됨\n",
    "                 , index_col='date_time'\n",
    "                )\n",
    "df.head()"
   ]
  },
  {
   "cell_type": "code",
   "execution_count": 11,
   "metadata": {},
   "outputs": [
    {
     "data": {
      "text/html": [
       "<div>\n",
       "<style scoped>\n",
       "    .dataframe tbody tr th:only-of-type {\n",
       "        vertical-align: middle;\n",
       "    }\n",
       "\n",
       "    .dataframe tbody tr th {\n",
       "        vertical-align: top;\n",
       "    }\n",
       "\n",
       "    .dataframe thead th {\n",
       "        text-align: right;\n",
       "    }\n",
       "</style>\n",
       "<table border=\"1\" class=\"dataframe\">\n",
       "  <thead>\n",
       "    <tr style=\"text-align: right;\">\n",
       "      <th></th>\n",
       "      <th>open</th>\n",
       "      <th>high</th>\n",
       "      <th>low</th>\n",
       "      <th>close</th>\n",
       "      <th>volume</th>\n",
       "    </tr>\n",
       "  </thead>\n",
       "  <tbody>\n",
       "    <tr>\n",
       "      <th>count</th>\n",
       "      <td>9851.000000</td>\n",
       "      <td>9851.000000</td>\n",
       "      <td>9851.000000</td>\n",
       "      <td>9851.000000</td>\n",
       "      <td>9851.000000</td>\n",
       "    </tr>\n",
       "    <tr>\n",
       "      <th>mean</th>\n",
       "      <td>60.828180</td>\n",
       "      <td>60.932991</td>\n",
       "      <td>60.716094</td>\n",
       "      <td>60.826370</td>\n",
       "      <td>963.197137</td>\n",
       "    </tr>\n",
       "    <tr>\n",
       "      <th>std</th>\n",
       "      <td>7.530683</td>\n",
       "      <td>7.512812</td>\n",
       "      <td>7.547910</td>\n",
       "      <td>7.530935</td>\n",
       "      <td>945.335874</td>\n",
       "    </tr>\n",
       "    <tr>\n",
       "      <th>min</th>\n",
       "      <td>42.522000</td>\n",
       "      <td>42.749000</td>\n",
       "      <td>42.416000</td>\n",
       "      <td>42.500000</td>\n",
       "      <td>1.000000</td>\n",
       "    </tr>\n",
       "    <tr>\n",
       "      <th>25%</th>\n",
       "      <td>54.056500</td>\n",
       "      <td>54.194500</td>\n",
       "      <td>53.922000</td>\n",
       "      <td>54.054500</td>\n",
       "      <td>298.000000</td>\n",
       "    </tr>\n",
       "    <tr>\n",
       "      <th>50%</th>\n",
       "      <td>61.531000</td>\n",
       "      <td>61.653000</td>\n",
       "      <td>61.408000</td>\n",
       "      <td>61.529000</td>\n",
       "      <td>654.000000</td>\n",
       "    </tr>\n",
       "    <tr>\n",
       "      <th>75%</th>\n",
       "      <td>67.481000</td>\n",
       "      <td>67.595000</td>\n",
       "      <td>67.385000</td>\n",
       "      <td>67.481000</td>\n",
       "      <td>1302.000000</td>\n",
       "    </tr>\n",
       "    <tr>\n",
       "      <th>max</th>\n",
       "      <td>76.547000</td>\n",
       "      <td>76.777000</td>\n",
       "      <td>76.194000</td>\n",
       "      <td>76.547000</td>\n",
       "      <td>7854.000000</td>\n",
       "    </tr>\n",
       "  </tbody>\n",
       "</table>\n",
       "</div>"
      ],
      "text/plain": [
       "              open         high          low        close       volume\n",
       "count  9851.000000  9851.000000  9851.000000  9851.000000  9851.000000\n",
       "mean     60.828180    60.932991    60.716094    60.826370   963.197137\n",
       "std       7.530683     7.512812     7.547910     7.530935   945.335874\n",
       "min      42.522000    42.749000    42.416000    42.500000     1.000000\n",
       "25%      54.056500    54.194500    53.922000    54.054500   298.000000\n",
       "50%      61.531000    61.653000    61.408000    61.529000   654.000000\n",
       "75%      67.481000    67.595000    67.385000    67.481000  1302.000000\n",
       "max      76.547000    76.777000    76.194000    76.547000  7854.000000"
      ]
     },
     "execution_count": 11,
     "metadata": {},
     "output_type": "execute_result"
    }
   ],
   "source": [
    "df.describe()"
   ]
  },
  {
   "cell_type": "code",
   "execution_count": 17,
   "metadata": {},
   "outputs": [
    {
     "data": {
      "text/plain": [
       "<matplotlib.axes._subplots.AxesSubplot at 0xc9c1fd0>"
      ]
     },
     "execution_count": 17,
     "metadata": {},
     "output_type": "execute_result"
    },
    {
     "data": {
      "image/png": "[encoded data removed]",
      "text/plain": [
       "<Figure size 1080x360 with 1 Axes>"
      ]
     },
     "metadata": {
      "needs_background": "light"
     },
     "output_type": "display_data"
    }
   ],
   "source": [
    "# 종가 그래프 그림\n",
    "df['close'].plot()"
   ]
  }
 ],
 "metadata": {
  "kernelspec": {
   "display_name": "Python 3",
   "language": "python",
   "name": "python3"
  },
  "language_info": {
   "codemirror_mode": {
    "name": "ipython",
    "version": 3
   },
   "file_extension": ".py",
   "mimetype": "text/x-python",
   "name": "python",
   "nbconvert_exporter": "python",
   "pygments_lexer": "ipython3",
   "version": "3.7.1"
  }
 },
 "nbformat": 4,
 "nbformat_minor": 2
}
